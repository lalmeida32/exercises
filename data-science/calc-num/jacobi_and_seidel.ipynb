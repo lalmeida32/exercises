{
 "cells": [
  {
   "cell_type": "code",
   "execution_count": 19,
   "id": "52c6058b",
   "metadata": {},
   "outputs": [],
   "source": [
    "import numpy as np"
   ]
  },
  {
   "cell_type": "markdown",
   "id": "2e6939a1",
   "metadata": {},
   "source": [
    "# Exercise 1"
   ]
  },
  {
   "cell_type": "code",
   "execution_count": 35,
   "id": "305d3e0a",
   "metadata": {},
   "outputs": [
    {
     "data": {
      "text/plain": [
       "array([[ 1.],\n",
       "       [-1.],\n",
       "       [ 1.]])"
      ]
     },
     "execution_count": 35,
     "metadata": {},
     "output_type": "execute_result"
    }
   ],
   "source": [
    "def gauss_jacobi(A, b, tol=1e-08, max_it=1000):\n",
    "    n = A.shape[0]\n",
    "    inv_diag = np.zeros((n,n))\n",
    "    np.fill_diagonal(inv_diag, 1/np.diagonal(A))\n",
    "    I = np.eye(n)\n",
    "    C = I - inv_diag @ A\n",
    "    g = inv_diag @ b\n",
    "    \n",
    "    x_prev = g.copy()\n",
    "    \n",
    "    for i in range(0, max_it):\n",
    "        x_prev = C @ x_prev + g\n",
    "        if np.abs(b - A @ x_prev).all() < tol:\n",
    "            return x_prev\n",
    "    \n",
    "    raise Error('The method does not converges.')\n",
    "    \n",
    "\n",
    "A_test = np.array([[20, 1, -2], [3, 20, -1], [2, -3, 20]], np.double)\n",
    "b_test = np.array([17, -18, 25], np.double).reshape((3, 1))\n",
    "\n",
    "gauss_jacobi(A_test, b_test)"
   ]
  },
  {
   "cell_type": "code",
   "execution_count": null,
   "id": "cbf31d09",
   "metadata": {},
   "outputs": [],
   "source": []
  }
 ],
 "metadata": {
  "kernelspec": {
   "display_name": "Python 3 (ipykernel)",
   "language": "python",
   "name": "python3"
  },
  "language_info": {
   "codemirror_mode": {
    "name": "ipython",
    "version": 3
   },
   "file_extension": ".py",
   "mimetype": "text/x-python",
   "name": "python",
   "nbconvert_exporter": "python",
   "pygments_lexer": "ipython3",
   "version": "3.11.3"
  }
 },
 "nbformat": 4,
 "nbformat_minor": 5
}
