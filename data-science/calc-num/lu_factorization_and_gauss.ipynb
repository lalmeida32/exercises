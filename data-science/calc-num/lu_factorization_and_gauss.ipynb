{
 "cells": [
  {
   "cell_type": "code",
   "execution_count": 1,
   "metadata": {},
   "outputs": [],
   "source": [
    "import numpy as np\n",
    "import time"
   ]
  },
  {
   "cell_type": "code",
   "execution_count": 47,
   "metadata": {},
   "outputs": [],
   "source": [
    "M = np.array([[1, 2, 0], [1, 3, 1], [-2, 0, 1]], np.double)\n",
    "b = np.array([3, 5, -1], np.double).reshape((3, 1))\n",
    "dim = b.shape[0]"
   ]
  },
  {
   "cell_type": "markdown",
   "metadata": {},
   "source": [
    "# Exercise 1"
   ]
  },
  {
   "cell_type": "code",
   "execution_count": 48,
   "metadata": {},
   "outputs": [
    {
     "data": {
      "text/plain": [
       "array([[-1.],\n",
       "       [ 2.],\n",
       "       [ 5.]])"
      ]
     },
     "execution_count": 48,
     "metadata": {},
     "output_type": "execute_result"
    }
   ],
   "source": [
    "def triangular_lower_solve(L, b, dim):\n",
    "    # Solve Ly = b\n",
    "    y = np.zeros((dim, 1))\n",
    "    for i in range(0, dim): # Iterate over each L line\n",
    "        y[i] = b[i]\n",
    "        for j in range(0, i): # Iterate over columns until i\n",
    "            y[i] -= L[i][j]*y[j]\n",
    "        y[i] /= L[i][i]\n",
    "    \n",
    "    return y\n",
    "\n",
    "L_test = np.array([[1, 0, 0], [2, 1, 0], [3, 2, 1]], np.double)\n",
    "b_test = np.array([-1, 0, 6], np.double).reshape((3, 1))\n",
    "\n",
    "triangular_lower_solve(L_test, b_test, 3)"
   ]
  },
  {
   "cell_type": "code",
   "execution_count": 49,
   "metadata": {},
   "outputs": [
    {
     "data": {
      "text/plain": [
       "array([[ 0.],\n",
       "       [ 1.],\n",
       "       [-1.]])"
      ]
     },
     "execution_count": 49,
     "metadata": {},
     "output_type": "execute_result"
    }
   ],
   "source": [
    "def triangular_upper_solve(U, y, dim):\n",
    "    # Solve Ux = y\n",
    "    x = np.zeros((dim, 1))\n",
    "    for i in range(dim-1, -1, -1): # Iterate over each U line, reversed\n",
    "        x[i] = y[i]\n",
    "        for j in range(dim-1, i, -1): # Iterate over columns until 0, from right to left\n",
    "            x[i] -= U[i][j]*x[j]\n",
    "        x[i] /= U[i][i]\n",
    "    \n",
    "    return x\n",
    "\n",
    "U_test = np.array([[2, 1, 2], [0, 1, -1], [0, 0, -5]], np.double)\n",
    "y_test = np.array([-1, 2, 5], np.double).reshape((3, 1))\n",
    "\n",
    "triangular_upper_solve(U_test, y_test, 3)"
   ]
  },
  {
   "cell_type": "markdown",
   "metadata": {},
   "source": [
    "# Exercise 2"
   ]
  },
  {
   "cell_type": "code",
   "execution_count": 2,
   "metadata": {},
   "outputs": [
    {
     "name": "stdout",
     "output_type": "stream",
     "text": [
      "[[1. 0. 0.]\n",
      " [2. 1. 0.]\n",
      " [3. 2. 1.]]\n",
      "[[ 2.  1.  2.]\n",
      " [ 0.  1. -1.]\n",
      " [ 0.  0. -5.]]\n"
     ]
    },
    {
     "data": {
      "text/plain": [
       "True"
      ]
     },
     "execution_count": 2,
     "metadata": {},
     "output_type": "execute_result"
    }
   ],
   "source": [
    "def lu_factorization(M, dim):\n",
    "    L = np.identity(dim)\n",
    "    U = np.zeros((dim,dim))\n",
    "    \n",
    "    U[0] = M[0] # Iterate first line\n",
    "    \n",
    "    for it in range(0, dim-1):\n",
    "        \n",
    "        for line in range(it+1, dim): # Iterate it'th column\n",
    "            sum = 0\n",
    "            for it2 in range(0, it+1):\n",
    "                sum += L[line][it2]*U[it2][it]\n",
    "            L[line][it] = (M[line][it] - sum)/U[it][it]\n",
    "        \n",
    "        for col in range(it+1, dim): # Iterate (it+1)'th line\n",
    "            sum = 0\n",
    "            for it2 in range(0, it+2):\n",
    "                sum += L[it+1][it2]*U[it2][col]\n",
    "            U[it+1][col] = M[it+1][col] - sum\n",
    "        \n",
    "    return L, U\n",
    "\n",
    "M_test = np.array([[2, 1, 2], [4, 3, 3], [6, 5, -1]], np.double)\n",
    "L_test, U_test = lu_factorization(M_test, 3)\n",
    "\n",
    "print(L_test)\n",
    "print(U_test)\n",
    "\n",
    "np.allclose(L_test @ U_test, M_test)"
   ]
  },
  {
   "cell_type": "code",
   "execution_count": 74,
   "metadata": {},
   "outputs": [
    {
     "name": "stdout",
     "output_type": "stream",
     "text": [
      "x \n",
      " [[1.]\n",
      " [1.]\n",
      " [1.]]\n",
      "\n",
      "x2\n",
      " [[1.]\n",
      " [1.]\n",
      " [1.]]\n"
     ]
    },
    {
     "data": {
      "text/plain": [
       "True"
      ]
     },
     "execution_count": 74,
     "metadata": {},
     "output_type": "execute_result"
    }
   ],
   "source": [
    "L, U = lu_factorization(M, dim)\n",
    "\n",
    "# Solve Ly = b\n",
    "y = triangular_lower_solve(L, b, dim)\n",
    "\n",
    "# Solve Ux = y\n",
    "x = triangular_upper_solve(U, y, dim)\n",
    "\n",
    "x2 = np.linalg.solve(M, b)\n",
    "\n",
    "print('x \\n', x)\n",
    "print()\n",
    "print('x2\\n', x2)\n",
    "np.allclose(x, x2)"
   ]
  },
  {
   "cell_type": "markdown",
   "metadata": {},
   "source": [
    "# Exercise 3"
   ]
  },
  {
   "cell_type": "code",
   "execution_count": 52,
   "metadata": {},
   "outputs": [
    {
     "data": {
      "text/plain": [
       "array([[ 0.],\n",
       "       [ 1.],\n",
       "       [-1.]])"
      ]
     },
     "execution_count": 52,
     "metadata": {},
     "output_type": "execute_result"
    }
   ],
   "source": [
    "def gauss_elimination(M, b, dim):\n",
    "    \n",
    "    U = M.copy()\n",
    "    y = b.copy()\n",
    "    \n",
    "    for col in range(0, dim-1):\n",
    "        col_value = U[col][col]\n",
    "        for line in range(col+1, dim):\n",
    "            multiplier = -U[line][col]/col_value\n",
    "            U[line] = U[col]*multiplier + U[line]\n",
    "            y[line] = y[col]*multiplier + y[line]\n",
    "    \n",
    "    return triangular_upper_solve(U, y, dim)\n",
    "\n",
    "M_test = np.array([[2, 1, 2], [4, 3, 3], [6, 5, -1]], np.double)\n",
    "b_test = np.array([-1, 0, 6], np.double).reshape((3, 1))\n",
    "\n",
    "gauss_elimination(M_test, b_test, 3)"
   ]
  },
  {
   "cell_type": "markdown",
   "metadata": {},
   "source": [
    "# Exercise 4"
   ]
  },
  {
   "cell_type": "code",
   "execution_count": 53,
   "metadata": {},
   "outputs": [
    {
     "data": {
      "text/plain": [
       "array([[ 0.],\n",
       "       [ 1.],\n",
       "       [-1.]])"
      ]
     },
     "execution_count": 53,
     "metadata": {},
     "output_type": "execute_result"
    }
   ],
   "source": [
    "def gauss_elimination_with_pivot(M, b, dim):\n",
    "    \n",
    "    U = M.copy()\n",
    "    y = b.copy()\n",
    "    \n",
    "    for col in range(0, dim-1):\n",
    "        \n",
    "        current_pivot = np.absolute(U[col:,col]).argmax(axis=0)+col\n",
    "        U[[col, current_pivot]] = U[[current_pivot, col]]\n",
    "        y[[col, current_pivot]] = y[[current_pivot, col]]\n",
    "        \n",
    "        col_value = U[col][col]\n",
    "        for line in range(col+1, dim):\n",
    "            multiplier = -U[line][col]/col_value\n",
    "            U[line] = U[col]*multiplier + U[line]\n",
    "            y[line] = y[col]*multiplier + y[line]\n",
    "            \n",
    "    return triangular_upper_solve(U, y, dim)\n",
    "\n",
    "M_test = np.array([[2, 1, 2], [4, 3, 3], [6, 5, -1]], np.double)\n",
    "b_test = np.array([-1, 0, 6], np.double).reshape((3, 1))\n",
    "\n",
    "gauss_elimination_with_pivot(M_test, b_test, 3)"
   ]
  },
  {
   "cell_type": "markdown",
   "metadata": {},
   "source": [
    "# Exercise 5"
   ]
  },
  {
   "cell_type": "code",
   "execution_count": 27,
   "metadata": {},
   "outputs": [
    {
     "name": "stdout",
     "output_type": "stream",
     "text": [
      "[[1.         0.         0.        ]\n",
      " [0.33333333 1.         0.        ]\n",
      " [0.66666667 0.5        1.        ]]\n",
      "[[ 6.          5.         -1.        ]\n",
      " [ 0.         -0.66666667  2.33333333]\n",
      " [ 0.          0.          2.5       ]]\n",
      "[[0. 0. 1.]\n",
      " [1. 0. 0.]\n",
      " [0. 1. 0.]]\n"
     ]
    },
    {
     "data": {
      "text/plain": [
       "True"
      ]
     },
     "execution_count": 27,
     "metadata": {},
     "output_type": "execute_result"
    }
   ],
   "source": [
    "def lu_factorization_with_gauss_pivot(M, dim):\n",
    "    U = M.copy()\n",
    "    L = np.zeros((dim,dim), dtype=np.double)\n",
    "    P = np.identity(dim, dtype=np.double)\n",
    "    \n",
    "    for col in range(0, dim-1):\n",
    "        \n",
    "        current_pivot = np.absolute(U[col:,col]).argmax(axis=0)+col\n",
    "        U[[col, current_pivot]] = U[[current_pivot, col]]\n",
    "        L[[col, current_pivot]] = L[[current_pivot, col]]\n",
    "        P[[col, current_pivot]] = P[[current_pivot, col]]\n",
    "        \n",
    "        col_value = U[col][col]\n",
    "        for line in range(col+1, dim):\n",
    "            multiplier = -U[line][col]/col_value\n",
    "            L[line][col] = -multiplier\n",
    "            U[line] = U[col]*multiplier + U[line]\n",
    "    L += np.identity(dim, dtype=np.double)        \n",
    "    return L, U, P\n",
    "\n",
    "M_test = np.array([[2, 1, 2], [4, 3, 3], [6, 5, -1]], np.double)\n",
    "L_test, U_test, P_test = lu_factorization_with_gauss_pivot(M_test, 3)\n",
    "\n",
    "print(L_test)\n",
    "print(U_test)\n",
    "print(P_test)\n",
    "\n",
    "np.allclose(P_test.T @ L_test @ U_test, M_test)"
   ]
  },
  {
   "cell_type": "markdown",
   "metadata": {},
   "source": [
    "# Exercise 6"
   ]
  },
  {
   "cell_type": "code",
   "execution_count": 75,
   "metadata": {},
   "outputs": [
    {
     "name": "stdout",
     "output_type": "stream",
     "text": [
      "[[ 1.8 -1.1  0.3]\n",
      " [-2.2  1.4 -0.2]\n",
      " [-0.2  0.4 -0.2]]\n"
     ]
    },
    {
     "data": {
      "text/plain": [
       "True"
      ]
     },
     "execution_count": 75,
     "metadata": {},
     "output_type": "execute_result"
    }
   ],
   "source": [
    "def inverse_matrix(M, dim):\n",
    "    M_inv = np.zeros((dim,dim), dtype=np.double)\n",
    "    I = np.identity(dim, dtype=np.double)\n",
    "    \n",
    "    for col in range(0, dim):\n",
    "        M_inv[:, col] = gauss_elimination_with_pivot(M, I[:,col], dim).reshape((3,))\n",
    "    \n",
    "    return M_inv\n",
    "\n",
    "M_test = np.array([[2, 1, 2], [4, 3, 3], [6, 5, -1]], np.double)\n",
    "M_test_inv = inverse_matrix(M_test, 3)\n",
    "\n",
    "print(M_test_inv)\n",
    "np.allclose(M_test @ M_test_inv, np.identity(3, dtype=np.double))"
   ]
  },
  {
   "cell_type": "markdown",
   "metadata": {},
   "source": [
    "# Exercise 7"
   ]
  },
  {
   "cell_type": "code",
   "execution_count": 3,
   "metadata": {},
   "outputs": [
    {
     "name": "stdout",
     "output_type": "stream",
     "text": [
      "[[ 1.          0.          0.          0.          0.        ]\n",
      " [ 2.          1.          0.          0.          0.        ]\n",
      " [ 1.          0.375       1.          0.          0.        ]\n",
      " [ 0.         -0.625       2.4         1.          0.        ]\n",
      " [ 0.          0.          0.8         0.30860534  1.        ]]\n",
      "[[  1.          -2.          -3.           0.           0.        ]\n",
      " [  0.           8.           8.           4.           0.        ]\n",
      " [  0.           0.           5.         -10.5          8.        ]\n",
      " [  0.           0.           0.          33.7        -17.2       ]\n",
      " [  0.           0.           0.           0.           5.90801187]]\n"
     ]
    },
    {
     "data": {
      "text/plain": [
       "True"
      ]
     },
     "execution_count": 3,
     "metadata": {},
     "output_type": "execute_result"
    }
   ],
   "source": [
    "def lu_factorization_for_band_matrix(M, p, dim):\n",
    "    L = np.identity(dim)\n",
    "    U = np.zeros((dim,dim))\n",
    "    \n",
    "    U[0] = M[0] # Iterate first line\n",
    "    \n",
    "    for it in range(0, dim-1):\n",
    "        \n",
    "        for line in range(it+1, min(it+1+p,dim)): # Iterate it'th column\n",
    "            sum = 0\n",
    "            for it2 in range(max(0, line-p), it+1):\n",
    "                sum += L[line][it2]*U[it2][it]\n",
    "            L[line][it] = (M[line][it] - sum)/U[it][it]\n",
    "        \n",
    "        for col in range(it+1, min(it+2+p, dim)): # Iterate (it+1)'th line\n",
    "            sum = 0\n",
    "            for it2 in range(max(0, col-p), it+2):\n",
    "                sum += L[it+1][it2]*U[it2][col]\n",
    "            U[it+1][col] = M[it+1][col] - sum\n",
    "        \n",
    "    return L, U\n",
    "\n",
    "M_test = np.array([[1, -2, -3, 0, 0], [2, 4, 2, 4, 0], [1, 1, 5, -9, 8], [0, -5, 7, 6, 2], [0, 0, 4, 2, 7]], np.double)\n",
    "L_test, U_test = lu_factorization_for_band_matrix(M_test, 2, 5)\n",
    "\n",
    "print(L_test)\n",
    "print(U_test)\n",
    "\n",
    "np.allclose(L_test @ U_test, M_test)"
   ]
  },
  {
   "cell_type": "code",
   "execution_count": 29,
   "metadata": {},
   "outputs": [
    {
     "name": "stdout",
     "output_type": "stream",
     "text": [
      "0.5054197311401367\n",
      "0.005908012390136719\n",
      "True\n",
      "False\n"
     ]
    }
   ],
   "source": [
    "# LU vs LU for band\n",
    "dim = 500\n",
    "p = 2\n",
    "\n",
    "M_test = np.zeros((dim,dim))\n",
    "for i in range(dim):\n",
    "    for j in range(max(0,i-p), min(i+p+1, dim)):\n",
    "        M_test[i, j] = np.random.normal()  \n",
    "        \n",
    "start_time = time.time()\n",
    "L_test, U_test, P_test = lu_factorization_with_gauss_pivot(M_test, dim)\n",
    "end_time = time.time()\n",
    "print(end_time - start_time)\n",
    "\n",
    "start_time = time.time()\n",
    "L_test_band, U_test_band = lu_factorization_for_band_matrix(M_test, p, dim)\n",
    "end_time = time.time()\n",
    "print(end_time - start_time)\n",
    "\n",
    "print(np.allclose(P_test.T @ L_test @ U_test, L_test_band @ U_test_band))\n",
    "print(np.allclose(L_test @ U_test, M_test))"
   ]
  },
  {
   "cell_type": "code",
   "execution_count": null,
   "metadata": {},
   "outputs": [],
   "source": []
  }
 ],
 "metadata": {
  "kernelspec": {
   "display_name": "Python 3 (ipykernel)",
   "language": "python",
   "name": "python3"
  },
  "language_info": {
   "codemirror_mode": {
    "name": "ipython",
    "version": 3
   },
   "file_extension": ".py",
   "mimetype": "text/x-python",
   "name": "python",
   "nbconvert_exporter": "python",
   "pygments_lexer": "ipython3",
   "version": "3.10.10"
  }
 },
 "nbformat": 4,
 "nbformat_minor": 2
}
