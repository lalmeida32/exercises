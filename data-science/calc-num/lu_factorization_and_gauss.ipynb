{
 "cells": [
  {
   "cell_type": "code",
   "execution_count": 95,
   "metadata": {},
   "outputs": [],
   "source": [
    "import numpy as np"
   ]
  },
  {
   "cell_type": "code",
   "execution_count": 96,
   "metadata": {},
   "outputs": [],
   "source": [
    "M = np.array([[1, 2, 0], [1, 3, 1], [-2, 0, 1]], np.double)\n",
    "b = np.array([3, 5, -1], np.double).reshape((3, 1))\n",
    "dim = b.shape[0]"
   ]
  },
  {
   "cell_type": "markdown",
   "metadata": {},
   "source": [
    "# Exercise 1"
   ]
  },
  {
   "cell_type": "code",
   "execution_count": 97,
   "metadata": {},
   "outputs": [
    {
     "data": {
      "text/plain": [
       "array([[-1.],\n",
       "       [ 2.],\n",
       "       [ 5.]])"
      ]
     },
     "execution_count": 97,
     "metadata": {},
     "output_type": "execute_result"
    }
   ],
   "source": [
    "def triangular_lower_solve(L, b, dim):\n",
    "    # Solve Ly = b\n",
    "    y = np.zeros((dim, 1))\n",
    "    for i in range(0, dim): # Iterate over each L line\n",
    "        y[i] = b[i]\n",
    "        for j in range(0, i): # Iterate over columns until i\n",
    "            y[i] -= L[i][j]*y[j]\n",
    "        y[i] /= L[i][i]\n",
    "    \n",
    "    return y\n",
    "\n",
    "L_test = np.array([[1, 0, 0], [2, 1, 0], [3, 2, 1]], np.double)\n",
    "b_test = np.array([-1, 0, 6], np.double).reshape((3, 1))\n",
    "\n",
    "triangular_lower_solve(L_test, b_test, 3)"
   ]
  },
  {
   "cell_type": "code",
   "execution_count": 98,
   "metadata": {},
   "outputs": [
    {
     "data": {
      "text/plain": [
       "array([[ 0.],\n",
       "       [ 1.],\n",
       "       [-1.]])"
      ]
     },
     "execution_count": 98,
     "metadata": {},
     "output_type": "execute_result"
    }
   ],
   "source": [
    "def triangular_upper_solve(U, y, dim):\n",
    "    # Solve Ux = y\n",
    "    x = np.zeros((dim, 1))\n",
    "    for i in range(dim-1, -1, -1): # Iterate over each U line, reversed\n",
    "        x[i] = y[i]\n",
    "        for j in range(dim-1, i, -1): # Iterate over columns until 0, from right to left\n",
    "            x[i] -= U[i][j]*x[j]\n",
    "        x[i] /= U[i][i]\n",
    "    \n",
    "    return x\n",
    "\n",
    "U_test = np.array([[2, 1, 2], [0, 1, -1], [0, 0, -5]], np.double)\n",
    "y_test = np.array([-1, 2, 5], np.double).reshape((3, 1))\n",
    "\n",
    "triangular_upper_solve(U_test, y_test, 3)"
   ]
  },
  {
   "cell_type": "markdown",
   "metadata": {},
   "source": [
    "# Exercise 2"
   ]
  },
  {
   "cell_type": "code",
   "execution_count": 99,
   "metadata": {},
   "outputs": [
    {
     "name": "stdout",
     "output_type": "stream",
     "text": [
      "[[1. 0. 0.]\n",
      " [2. 1. 0.]\n",
      " [3. 2. 1.]]\n",
      "[[ 2.  1.  2.]\n",
      " [ 0.  1. -1.]\n",
      " [ 0.  0. -5.]]\n"
     ]
    }
   ],
   "source": [
    "def lu_factorization(M, dim):\n",
    "    L = np.identity(dim)\n",
    "    U = np.zeros((dim,dim))\n",
    "    \n",
    "    U[0] = M[0] # Iterate first line\n",
    "    \n",
    "    for it in range(0, dim-1):\n",
    "        \n",
    "        for line in range(it+1, dim): # Iterate it'th column\n",
    "            sum = 0\n",
    "            for it2 in range(0, it+2):\n",
    "                sum += L[line][it2]*U[it2][it]\n",
    "            L[line][it] = (M[line][it] - sum)/U[it][it]\n",
    "        \n",
    "        for col in range(it+1, dim): # Iterate (it+1)'th line\n",
    "            sum = 0\n",
    "            for it2 in range(0, it+2):\n",
    "                sum += L[it+1][it2]*U[it2][col]\n",
    "            U[it+1][col] = M[it+1][col] - sum\n",
    "        \n",
    "    return L, U\n",
    "\n",
    "M_test = np.array([[2, 1, 2], [4, 3, 3], [6, 5, -1]], np.double)\n",
    "L_test, U_test = lu_factorization(M_test, 3)\n",
    "\n",
    "print(L_test)\n",
    "print(U_test)"
   ]
  },
  {
   "cell_type": "code",
   "execution_count": 100,
   "metadata": {},
   "outputs": [
    {
     "name": "stdout",
     "output_type": "stream",
     "text": [
      "x \n",
      " [[1.]\n",
      " [1.]\n",
      " [1.]]\n",
      "\n",
      "x2\n",
      " [[1.]\n",
      " [1.]\n",
      " [1.]]\n"
     ]
    },
    {
     "data": {
      "text/plain": [
       "True"
      ]
     },
     "execution_count": 100,
     "metadata": {},
     "output_type": "execute_result"
    }
   ],
   "source": [
    "L, U = lu_factorization(M, dim)\n",
    "\n",
    "# Solve Ly = b\n",
    "y = triangular_lower_solve(L, b, dim)\n",
    "\n",
    "# Solve Ux = y\n",
    "x = triangular_upper_solve(U, y, dim)\n",
    "\n",
    "x2 = np.linalg.solve(M, b)\n",
    "\n",
    "print('x \\n', x)\n",
    "print()\n",
    "print('x2\\n', x2)\n",
    "np.allclose(x, x2)"
   ]
  },
  {
   "cell_type": "markdown",
   "metadata": {},
   "source": [
    "# Exercise 3"
   ]
  },
  {
   "cell_type": "code",
   "execution_count": 101,
   "metadata": {},
   "outputs": [
    {
     "data": {
      "text/plain": [
       "array([[ 0.],\n",
       "       [ 1.],\n",
       "       [-1.]])"
      ]
     },
     "execution_count": 101,
     "metadata": {},
     "output_type": "execute_result"
    }
   ],
   "source": [
    "def gauss_elimination(M, b, dim):\n",
    "    \n",
    "    U = M.copy()\n",
    "    y = b.copy()\n",
    "    \n",
    "    for col in range(0, dim-1):\n",
    "        col_value = U[col][col]\n",
    "        for line in range(col+1, dim):\n",
    "            multiplier = -U[line][col]/col_value\n",
    "            U[line] = U[col]*multiplier + U[line]\n",
    "            y[line] = y[col]*multiplier + y[line]\n",
    "    \n",
    "    return triangular_upper_solve(U, y, dim)\n",
    "\n",
    "M_test = np.array([[2, 1, 2], [4, 3, 3], [6, 5, -1]], np.double)\n",
    "b_test = np.array([-1, 0, 6], np.double).reshape((3, 1))\n",
    "\n",
    "gauss_elimination(M_test, b_test, 3)"
   ]
  },
  {
   "cell_type": "markdown",
   "metadata": {},
   "source": [
    "# Exercise 4"
   ]
  },
  {
   "cell_type": "code",
   "execution_count": 103,
   "metadata": {},
   "outputs": [
    {
     "data": {
      "text/plain": [
       "array([[ 0.],\n",
       "       [ 1.],\n",
       "       [-1.]])"
      ]
     },
     "execution_count": 103,
     "metadata": {},
     "output_type": "execute_result"
    }
   ],
   "source": [
    "def gauss_elimination_with_pivot(M, b, dim):\n",
    "    \n",
    "    U = M.copy()\n",
    "    y = b.copy()\n",
    "    \n",
    "    for col in range(0, dim-1):\n",
    "        \n",
    "        current_pivot = np.absolute(U[col:,col]).argmax(axis=0)+col\n",
    "        U[[col, current_pivot]] = U[[current_pivot, col]]\n",
    "        y[[col, current_pivot]] = y[[current_pivot, col]]\n",
    "        \n",
    "        col_value = U[col][col]\n",
    "        for line in range(col+1, dim):\n",
    "            multiplier = -U[line][col]/col_value\n",
    "            U[line] = U[col]*multiplier + U[line]\n",
    "            y[line] = y[col]*multiplier + y[line]\n",
    "            \n",
    "    return triangular_upper_solve(U, y, dim)\n",
    "\n",
    "M_test = np.array([[2, 1, 2], [4, 3, 3], [6, 5, -1]], np.double)\n",
    "b_test = np.array([-1, 0, 6], np.double).reshape((3, 1))\n",
    "\n",
    "gauss_elimination_with_pivot(M_test, b_test, 3)"
   ]
  },
  {
   "cell_type": "code",
   "execution_count": null,
   "metadata": {},
   "outputs": [],
   "source": []
  }
 ],
 "metadata": {
  "kernelspec": {
   "display_name": "Python 3 (ipykernel)",
   "language": "python",
   "name": "python3"
  },
  "language_info": {
   "codemirror_mode": {
    "name": "ipython",
    "version": 3
   },
   "file_extension": ".py",
   "mimetype": "text/x-python",
   "name": "python",
   "nbconvert_exporter": "python",
   "pygments_lexer": "ipython3",
   "version": "3.10.9"
  }
 },
 "nbformat": 4,
 "nbformat_minor": 2
}
